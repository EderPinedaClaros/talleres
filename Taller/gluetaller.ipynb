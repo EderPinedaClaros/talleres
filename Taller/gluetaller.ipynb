{
	"metadata": {
		"kernelspec": {
			"name": "glue_pyspark",
			"display_name": "Glue PySpark",
			"language": "python"
		},
		"language_info": {
			"name": "Python_Glue_Session",
			"mimetype": "text/x-python",
			"codemirror_mode": {
				"name": "python",
				"version": 3
			},
			"pygments_lexer": "python3",
			"file_extension": ".py"
		}
	},
	"nbformat_minor": 4,
	"nbformat": 4,
	"cells": [
		{
			"cell_type": "markdown",
			"source": "# AWS Glue Studio Notebook\n##### You are now running a AWS Glue Studio notebook; To start using your notebook you need to start an AWS Glue Interactive Session.\n",
			"metadata": {
				"editable": true,
				"trusted": true
			}
		},
		{
			"cell_type": "markdown",
			"source": "#### Optional: Run this cell to see available notebook commands (\"magics\").\n",
			"metadata": {
				"editable": true,
				"trusted": true
			}
		},
		{
			"cell_type": "code",
			"source": "%help",
			"metadata": {
				"trusted": true,
				"editable": true
			},
			"execution_count": 2,
			"outputs": [
				{
					"name": "stdout",
					"text": "Welcome to the Glue Interactive Sessions Kernel\nFor more information on available magic commands, please type %help in any new cell.\n\nPlease view our Getting Started page to access the most up-to-date information on the Interactive Sessions kernel: https://docs.aws.amazon.com/glue/latest/dg/interactive-sessions.html\nInstalled kernel version: 1.0.4 \n",
					"output_type": "stream"
				},
				{
					"output_type": "display_data",
					"data": {
						"text/markdown": "\n# Available Magic Commands\n\n## Sessions Magic\n\n----\n    %help                             Return a list of descriptions and input types for all magic commands. \n    %profile            String        Specify a profile in your aws configuration to use as the credentials provider.\n    %region             String        Specify the AWS region in which to initialize a session. \n                                      Default from ~/.aws/config on Linux or macOS, \n                                      or C:\\Users\\ USERNAME \\.aws\\config\" on Windows.\n    %idle_timeout       Int           The number of minutes of inactivity after which a session will timeout. \n                                      Default: 2880 minutes (48 hours).\n    %session_id_prefix  String        Define a String that will precede all session IDs in the format \n                                      [session_id_prefix]-[session_id]. If a session ID is not provided,\n                                      a random UUID will be generated.\n    %status                           Returns the status of the current Glue session including its duration, \n                                      configuration and executing user / role.\n    %session_id                       Returns the session ID for the running session. \n    %list_sessions                    Lists all currently running sessions by ID.\n    %stop_session                     Stops the current session.\n    %glue_version       String        The version of Glue to be used by this session. \n                                      Currently, the only valid options are 2.0, 3.0 and 4.0. \n                                      Default: 2.0.\n----\n\n## Selecting Session Types\n\n----\n    %streaming          String        Sets the session type to Glue Streaming.\n    %etl                String        Sets the session type to Glue ETL.\n    %glue_ray           String        Sets the session type to Glue Ray.\n    %session_type       String        Specify a session_type to be used. Supported values: streaming, etl and glue_ray. \n----\n\n## Glue Config Magic \n*(common across all session types)*\n\n----\n\n    %%configure         Dictionary    A json-formatted dictionary consisting of all configuration parameters for \n                                      a session. Each parameter can be specified here or through individual magics.\n    %iam_role           String        Specify an IAM role ARN to execute your session with.\n                                      Default from ~/.aws/config on Linux or macOS, \n                                      or C:\\Users\\%USERNAME%\\.aws\\config` on Windows.\n    %number_of_workers  int           The number of workers of a defined worker_type that are allocated \n                                      when a session runs.\n                                      Default: 5.\n    %additional_python_modules  List  Comma separated list of additional Python modules to include in your cluster \n                                      (can be from Pypi or S3).\n    %%tags        Dictionary          Specify a json-formatted dictionary consisting of tags to use in the session.\n    \n    %%assume_role Dictionary, String  Specify a json-formatted dictionary or an IAM role ARN string to create a session \n                                      for cross account access.\n                                      E.g. {valid arn}\n                                      %%assume_role \n                                      'arn:aws:iam::XXXXXXXXXXXX:role/AWSGlueServiceRole' \n                                      E.g. {credentials}\n                                      %%assume_role\n                                      {\n                                            \"aws_access_key_id\" : \"XXXXXXXXXXXX\",\n                                            \"aws_secret_access_key\" : \"XXXXXXXXXXXX\",\n                                            \"aws_session_token\" : \"XXXXXXXXXXXX\"\n                                       }\n----\n\n                                      \n## Magic for Spark Sessions (ETL & Streaming)\n\n----\n    %worker_type        String        Set the type of instances the session will use as workers. \n    %connections        List          Specify a comma separated list of connections to use in the session.\n    %extra_py_files     List          Comma separated list of additional Python files From S3.\n    %extra_jars         List          Comma separated list of additional Jars to include in the cluster.\n    %spark_conf         String        Specify custom spark configurations for your session. \n                                      E.g. %spark_conf spark.serializer=org.apache.spark.serializer.KryoSerializer\n----\n                                      \n## Magic for Ray Session\n\n----\n    %min_workers        Int           The minimum number of workers that are allocated to a Ray session. \n                                      Default: 1.\n    %object_memory_head Int           The percentage of free memory on the instance head node after a warm start. \n                                      Minimum: 0. Maximum: 100.\n    %object_memory_worker Int         The percentage of free memory on the instance worker nodes after a warm start. \n                                      Minimum: 0. Maximum: 100.\n----\n\n## Action Magic\n\n----\n\n    %%sql               String        Run SQL code. All lines after the initial %%sql magic will be passed\n                                      as part of the SQL code.  \n    %matplot      Matplotlib figure   Visualize your data using the matplotlib library.\n                                      E.g. \n                                      import matplotlib.pyplot as plt\n                                      # Set X-axis and Y-axis values\n                                      x = [5, 2, 8, 4, 9]\n                                      y = [10, 4, 8, 5, 2]\n                                      # Create a bar chart \n                                      plt.bar(x, y) \n                                      # Show the plot\n                                      %matplot plt    \n    %plotly            Plotly figure  Visualize your data using the plotly library.\n                                      E.g.\n                                      import plotly.express as px\n                                      #Create a graphical figure\n                                      fig = px.line(x=[\"a\",\"b\",\"c\"], y=[1,3,2], title=\"sample figure\")\n                                      #Show the figure\n                                      %plotly fig\n\n  \n                \n----\n\n"
					},
					"metadata": {}
				}
			]
		},
		{
			"cell_type": "markdown",
			"source": "####  Run this cell to set up and start your interactive session.\n",
			"metadata": {
				"editable": true,
				"trusted": true
			}
		},
		{
			"cell_type": "code",
			"source": "%idle_timeout 2880\n%glue_version 4.0\n%worker_type G.1X\n%number_of_workers 5\n\nimport sys\nfrom awsglue.transforms import *\nfrom awsglue.utils import getResolvedOptions\nfrom pyspark.context import SparkContext\nfrom awsglue.context import GlueContext\nfrom awsglue.job import Job\n  \nsc = SparkContext.getOrCreate()\nglueContext = GlueContext(sc)\nspark = glueContext.spark_session\njob = Job(glueContext)",
			"metadata": {
				"trusted": true,
				"editable": true
			},
			"execution_count": 1,
			"outputs": [
				{
					"name": "stdout",
					"text": "Current idle_timeout is None minutes.\nidle_timeout has been set to 2880 minutes.\nSetting Glue version to: 4.0\nPrevious worker type: None\nSetting new worker type to: G.1X\nPrevious number of workers: None\nSetting new number of workers to: 5\nTrying to create a Glue session for the kernel.\nSession Type: glueetl\nWorker Type: G.1X\nNumber of Workers: 5\nSession ID: 599767cf-3954-453b-9382-c50abad066ac\nApplying the following default arguments:\n--glue_kernel_version 1.0.4\n--enable-glue-datacatalog true\nWaiting for session 599767cf-3954-453b-9382-c50abad066ac to get into ready status...\nSession 599767cf-3954-453b-9382-c50abad066ac has been created.\n\n",
					"output_type": "stream"
				}
			]
		},
		{
			"cell_type": "code",
			"source": "spark",
			"metadata": {
				"trusted": true,
				"tags": []
			},
			"execution_count": 2,
			"outputs": [
				{
					"name": "stdout",
					"text": "<pyspark.sql.session.SparkSession object at 0x7f4c1cdecb80>\n",
					"output_type": "stream"
				}
			]
		},
		{
			"cell_type": "code",
			"source": "%object_memory_head",
			"metadata": {
				"trusted": true,
				"tags": []
			},
			"execution_count": 14,
			"outputs": [
				{
					"name": "stderr",
					"text": "%object_memory_head is only supported in Glue Ray session type\n",
					"output_type": "stream"
				}
			]
		},
		{
			"cell_type": "code",
			"source": "dfreniec = spark.read.csv(\"s3://039229394722bucketdata/reniec_data.csv\", header='True', inferSchema='True')",
			"metadata": {
				"trusted": true,
				"tags": []
			},
			"execution_count": 3,
			"outputs": [
				{
					"name": "stdout",
					"text": "\n",
					"output_type": "stream"
				}
			]
		},
		{
			"cell_type": "code",
			"source": "dfreniec.show()",
			"metadata": {
				"trusted": true,
				"tags": []
			},
			"execution_count": 4,
			"outputs": [
				{
					"name": "stdout",
					"text": "+---------------+----------+-------------------+-----------------+----+----+------------+---------+-------------+------------------+\n|NUMERODOCUMENTO|    APEPAT|             APEMAT|          NOMBRES|EDAD|SEXO|DEPARTAMENTO|PROVINCIA|     DISTRITO|ESTADOCIVILTITULAR|\n+---------------+----------+-------------------+-----------------+----+----+------------+---------+-------------+------------------+\n|       41854018|     PINTO|            CONDORI|        JOSE LUIS|  31|   M|        LIMA|     LIMA|         LIMA|                 S|\n|       41020654|    TORRES|               NAPA|     LUIS ENRIQUE|  34|   M|        LIMA|     LIMA|         LIMA|                 S|\n|       41591162| CASTANEDA|          TANTALEAN|  SHIRLEY JANETTE|  33|   F|        LIMA|     LIMA|         LIMA|                 S|\n|       41034300|    TAPARA|             FLORES| MARIELA MERCEDES|  37|   F|        LIMA|     LIMA|         LIMA|                 S|\n|       41150271|  CARBAJAL|               RUIZ|ROSALIA HORTENCIA|  35|   F|        LIMA|     LIMA|         LIMA|                 S|\n|       41125546|    GRADOS|            CONDORI|       ERIKA ANAI|  37|   F|        LIMA|     LIMA|         LIMA|                CS|\n|       41919700|   CONDORI|             HUANCA|       ELIDA SONY|  31|   F|        LIMA|     LIMA|         LIMA|                CS|\n|       41678951|   ESCOBAR|CASTANEDA DE SEGAMA|      LUISA YUDIT|  38|   F|        LIMA|     LIMA|          ATE|                CS|\n|       41676527| CANGALAYA|         NINAHUANCA|   LOURDES AURORA|  32|   F|        LIMA|     LIMA|  SANTA ANITA|                 S|\n|       41062987|      ECHE|         COLMENARES|   MARIA MILAGROS|  33|   F|        LIMA|     LIMA|        BRE�A|                CS|\n|       41004637|   VASQUEZ|         DEL AGUILA| NIURKHA MILUSKHA|  35|   F|        LIMA|     LIMA|        BRE�A|                CS|\n|       41290421|   NORIEGA|            NAVARRO|SAMANTA ROSSMANIS|  33|   F|        LIMA|     LIMA|        BRE�A|                 S|\n|       41133448|     DIEGO|          NAVARRETE|       MARIA NELA|  38|   F|        LIMA|     LIMA|        BRE�A|                CS|\n|       41899533|   PAREDES|           CASTILLO|      STEVEN JOEL|  32|   M|        LIMA|     LIMA|        BRE�A|                CS|\n|       41869858|     MATOS|              FALLA|   JIMMY FRANKLIN|  34|   M|        LIMA|     LIMA|        COMAS|                 S|\n|       41316157|    CHACON|           TERRONES|        JACKELINE|  32|   F|        LIMA|     LIMA|        COMAS|                 S|\n|       41180904|      BOZA|          PACHERREZ|     CARMEN LUISA|  33|   F|        LIMA|     LIMA|   CHORRILLOS|                 S|\n|       41225156|ECHEVARRIA|             FALCON|     MAYITA HYLDA|  33|   F|        LIMA|     LIMA|INDEPENDENCIA|                CS|\n|       41564419|  MELENDEZ|               LEON|  MAURO CRISTOBAL|  39|   M|        LIMA|     LIMA|INDEPENDENCIA|                CS|\n|       41303274|    ALFARO|              PEREZ|            EDWIN|  35|   M|        LIMA|     LIMA|INDEPENDENCIA|                 S|\n+---------------+----------+-------------------+-----------------+----+----+------------+---------+-------------+------------------+\nonly showing top 20 rows\n",
					"output_type": "stream"
				}
			]
		},
		{
			"cell_type": "code",
			"source": "import pandas as pd\ndfSexo = pd.DataFrame({'SEXO':['M','F'],'DETALLESEXO':['MASCULINO','FEMENINO']})\ndfSexo",
			"metadata": {
				"trusted": true,
				"tags": []
			},
			"execution_count": 5,
			"outputs": [
				{
					"name": "stdout",
					"text": "  SEXO DETALLESEXO\n0    M   MASCULINO\n1    F    FEMENINO\n",
					"output_type": "stream"
				}
			]
		},
		{
			"cell_type": "code",
			"source": "type(dfSexo)",
			"metadata": {
				"trusted": true,
				"tags": []
			},
			"execution_count": 6,
			"outputs": [
				{
					"name": "stdout",
					"text": "<class 'pandas.core.frame.DataFrame'>\n",
					"output_type": "stream"
				}
			]
		},
		{
			"cell_type": "code",
			"source": "dfSexoSpark = spark.createDataFrame(dfSexo)",
			"metadata": {
				"trusted": true,
				"tags": []
			},
			"execution_count": 8,
			"outputs": [
				{
					"name": "stdout",
					"text": "/opt/amazon/spark/python/lib/pyspark.zip/pyspark/sql/pandas/conversion.py:474: FutureWarning: iteritems is deprecated and will be removed in a future version. Use .items instead.\n/opt/amazon/spark/python/lib/pyspark.zip/pyspark/sql/pandas/conversion.py:486: FutureWarning: iteritems is deprecated and will be removed in a future version. Use .items instead.\n",
					"output_type": "stream"
				}
			]
		},
		{
			"cell_type": "code",
			"source": "type(dfSexoSpark)",
			"metadata": {
				"trusted": true,
				"tags": []
			},
			"execution_count": 9,
			"outputs": [
				{
					"name": "stdout",
					"text": "<class 'pyspark.sql.dataframe.DataFrame'>\n",
					"output_type": "stream"
				}
			]
		},
		{
			"cell_type": "code",
			"source": "type(dfreniec)",
			"metadata": {
				"trusted": true,
				"tags": []
			},
			"execution_count": 7,
			"outputs": [
				{
					"name": "stdout",
					"text": "<class 'pyspark.sql.dataframe.DataFrame'>\n",
					"output_type": "stream"
				}
			]
		},
		{
			"cell_type": "code",
			"source": "dfreniec",
			"metadata": {
				"trusted": true,
				"tags": []
			},
			"execution_count": 14,
			"outputs": [
				{
					"name": "stdout",
					"text": "DataFrame[NUMERODOCUMENTO: int, APEPAT: string, APEMAT: string, NOMBRES: string, EDAD: int, SEXO: string, DEPARTAMENTO: string, PROVINCIA: string, DISTRITO: string, ESTADOCIVILTITULAR: string]\n",
					"output_type": "stream"
				}
			]
		},
		{
			"cell_type": "code",
			"source": "dfSexoSpark.createOrReplaceTempView(\"t_sexo\")\ndfreniec.createOrReplaceTempView(\"t_reniec\")",
			"metadata": {
				"trusted": true,
				"tags": []
			},
			"execution_count": 10,
			"outputs": [
				{
					"name": "stdout",
					"text": "\n",
					"output_type": "stream"
				}
			]
		},
		{
			"cell_type": "code",
			"source": "spark.sql(\"show tables from default\").show()",
			"metadata": {
				"trusted": true,
				"tags": []
			},
			"execution_count": 19,
			"outputs": [
				{
					"name": "stdout",
					"text": "+---------+-----------------+-----------+\n|namespace|        tableName|isTemporary|\n+---------+-----------------+-----------+\n|  default|t_dfreniecdetalle|      false|\n|  default|  t_reporte_nuevo|      false|\n|         |         t_reniec|       true|\n|         |           t_sexo|       true|\n+---------+-----------------+-----------+\n",
					"output_type": "stream"
				}
			]
		},
		{
			"cell_type": "code",
			"source": "dfReniecDetalle = spark.sql(\"\"\"\n                                        select a.*, b.DETALLESEXO\n                                        from t_reniec a\n                                        inner join t_sexo b on a.SEXO = b.SEXO\n                            \"\"\")",
			"metadata": {
				"trusted": true,
				"tags": []
			},
			"execution_count": 16,
			"outputs": [
				{
					"name": "stdout",
					"text": "\n",
					"output_type": "stream"
				}
			]
		},
		{
			"cell_type": "code",
			"source": "dfReniecDetalle.createSQLContexst()",
			"metadata": {},
			"execution_count": null,
			"outputs": []
		},
		{
			"cell_type": "code",
			"source": "spark.sql(\"\"\"\n            create table t_dfReniecDetalle\n            as\n                                        select a.*, b.DETALLESEXO\n                                        from t_reniec a\n                                        inner join t_sexo b on a.SEXO = b.SEXO\n                            \"\"\")",
			"metadata": {
				"trusted": true,
				"tags": []
			},
			"execution_count": 18,
			"outputs": [
				{
					"name": "stdout",
					"text": "DataFrame[]\n",
					"output_type": "stream"
				}
			]
		},
		{
			"cell_type": "code",
			"source": "dfReniecDetalle.show()",
			"metadata": {
				"trusted": true,
				"tags": []
			},
			"execution_count": 17,
			"outputs": [
				{
					"name": "stdout",
					"text": "+---------------+-------------+---------+----------------+----+----+------------+---------+--------------------+------------------+-----------+\n|NUMERODOCUMENTO|       APEPAT|   APEMAT|         NOMBRES|EDAD|SEXO|DEPARTAMENTO|PROVINCIA|            DISTRITO|ESTADOCIVILTITULAR|DETALLESEXO|\n+---------------+-------------+---------+----------------+----+----+------------+---------+--------------------+------------------+-----------+\n|       41800611|    VELASQUEZ|VELASQUEZ|   DAVID ROBERTO|  32|   M|        LIMA|     LIMA|          MIRAFLORES|                 S|  MASCULINO|\n|       41726425|         VEGA|  OBREGON|    JULIO MARINO|  32|   M|        LIMA|     LIMA|       PUENTE PIEDRA|                 S|  MASCULINO|\n|       41695953|       QUISPE|   MAMANI|   EDWIN BELTRAN|  32|   M|        LIMA|     LIMA|         LA VICTORIA|                CS|  MASCULINO|\n|       41784700|        ACARO|   ORTEGA|    ENVER YOSELY|  35|   M|        LIMA|     LIMA|SAN MARTIN DE PORRES|                CS|  MASCULINO|\n|       41599317|    IZAGUIRRE|    SOLIS|    HENRY MARTIN|  32|   M|        LIMA|     LIMA|               COMAS|                 S|  MASCULINO|\n|       41579214|         YAYA|  VENTURO|    JOSE EDUARDO|  33|   M|        LIMA|   CA�ETE|            IMPERIAL|                 S|  MASCULINO|\n|       41539098|    SARMIENTO|   RIVERA|           ROMEL|  32|   M|        LIMA|     LIMA|SAN JUAN DE LURIG...|                 S|  MASCULINO|\n|       41673925|       CAPANI|    ORTIZ|          HECTOR|  32|   M|        LIMA|     LIMA|SAN JUAN DE LURIG...|                 S|  MASCULINO|\n|       41465372|     CARRASCO|HUASUPOMA|    EDWIN IRINEO|  32|   M|        LIMA|     LIMA|       INDEPENDENCIA|                 S|  MASCULINO|\n|       41446683|       ANAMPA|     INCA|   NICOLAS LUCIO|  34|   M|        LIMA|     LIMA|                LIMA|                 S|  MASCULINO|\n|       41429153|     CARRANZA|    CUBAS|          ELISEO|  34|   M|        LIMA|     LIMA|               RIMAC|                 S|  MASCULINO|\n|       41414317|      SALDANA|MONDRAGON|    LUIS ALBERTO|  32|   M|        LIMA|     LIMA|       INDEPENDENCIA|                CS|  MASCULINO|\n|       41318159|    VELASQUEZ|  DIESTRA|       JIMY RAUL|  33|   M|        LIMA|     LIMA|       INDEPENDENCIA|                 S|  MASCULINO|\n|       41300907|    MONDONEDO|     WONG|          WALDIR|  33|   M|        LIMA|     LIMA|               RIMAC|                 S|  MASCULINO|\n|       41282048|      ANCIETA|    MARIN|   VICTOR MARTIN|  33|   M|        LIMA|     LIMA|         LA VICTORIA|                 S|  MASCULINO|\n|       41262842|GOMEZ SANCHEZ|   BOTTON|    CESAR MARTIN|  33|   M|        LIMA|     LIMA|   SANTIAGO DE SURCO|                 S|  MASCULINO|\n|       41248532|      RAMIREZ|  BARBOZA|    JESUS MARTIN|  33|   M|        LIMA|     LIMA|          SAN MIGUEL|                 S|  MASCULINO|\n|       41235005|       GRADOS|   CASTRO|      JORGE LUIS|  34|   M|        LIMA|     LIMA|         LA VICTORIA|                 S|  MASCULINO|\n|       41212992|     GONZALES|  CACCIRE|ALEJANDRO JAVIER|  34|   M|        LIMA|     LIMA|   SANTIAGO DE SURCO|                 S|  MASCULINO|\n|       41201652|       BUTRON|  GOTUZZO|            OMAR|  33|   M|        LIMA|     LIMA|   SANTIAGO DE SURCO|                 S|  MASCULINO|\n+---------------+-------------+---------+----------------+----+----+------------+---------+--------------------+------------------+-----------+\nonly showing top 20 rows\n",
					"output_type": "stream"
				}
			]
		},
		{
			"cell_type": "code",
			"source": "dfReniecDetalle.printSchema()",
			"metadata": {
				"trusted": true,
				"tags": []
			},
			"execution_count": 20,
			"outputs": [
				{
					"name": "stdout",
					"text": "root\n |-- NUMERODOCUMENTO: integer (nullable = true)\n |-- APEPAT: string (nullable = true)\n |-- APEMAT: string (nullable = true)\n |-- NOMBRES: string (nullable = true)\n |-- EDAD: integer (nullable = true)\n |-- SEXO: string (nullable = true)\n |-- DEPARTAMENTO: string (nullable = true)\n |-- PROVINCIA: string (nullable = true)\n |-- DISTRITO: string (nullable = true)\n |-- ESTADOCIVILTITULAR: string (nullable = true)\n |-- DETALLESEXO: string (nullable = true)\n",
					"output_type": "stream"
				}
			]
		},
		{
			"cell_type": "code",
			"source": "\nfrom pyspark.sql.functions import udf\nfrom pyspark.sql.types import StringType, IntegerType\n\ndef mi_funcion(valor):\n    return valor*10\n\nmi_udf = udf(mi_funcion, IntegerType())\ndfReniecDetalleNew = dfReniecDetalle.withColumn(\"Venta\", mi_udf(dfReniecDetalle[\"EDAD\"]))",
			"metadata": {
				"trusted": true,
				"tags": []
			},
			"execution_count": 25,
			"outputs": [
				{
					"name": "stdout",
					"text": "\n",
					"output_type": "stream"
				}
			]
		},
		{
			"cell_type": "code",
			"source": "dfReniecDetalleNew.show()",
			"metadata": {
				"trusted": true,
				"tags": []
			},
			"execution_count": 26,
			"outputs": [
				{
					"name": "stdout",
					"text": "+---------------+-------------+---------+----------------+----+----+------------+---------+--------------------+------------------+-----------+-----+\n|NUMERODOCUMENTO|       APEPAT|   APEMAT|         NOMBRES|EDAD|SEXO|DEPARTAMENTO|PROVINCIA|            DISTRITO|ESTADOCIVILTITULAR|DETALLESEXO|Venta|\n+---------------+-------------+---------+----------------+----+----+------------+---------+--------------------+------------------+-----------+-----+\n|       41800611|    VELASQUEZ|VELASQUEZ|   DAVID ROBERTO|  32|   M|        LIMA|     LIMA|          MIRAFLORES|                 S|  MASCULINO|  320|\n|       41726425|         VEGA|  OBREGON|    JULIO MARINO|  32|   M|        LIMA|     LIMA|       PUENTE PIEDRA|                 S|  MASCULINO|  320|\n|       41695953|       QUISPE|   MAMANI|   EDWIN BELTRAN|  32|   M|        LIMA|     LIMA|         LA VICTORIA|                CS|  MASCULINO|  320|\n|       41784700|        ACARO|   ORTEGA|    ENVER YOSELY|  35|   M|        LIMA|     LIMA|SAN MARTIN DE PORRES|                CS|  MASCULINO|  350|\n|       41599317|    IZAGUIRRE|    SOLIS|    HENRY MARTIN|  32|   M|        LIMA|     LIMA|               COMAS|                 S|  MASCULINO|  320|\n|       41579214|         YAYA|  VENTURO|    JOSE EDUARDO|  33|   M|        LIMA|   CA�ETE|            IMPERIAL|                 S|  MASCULINO|  330|\n|       41539098|    SARMIENTO|   RIVERA|           ROMEL|  32|   M|        LIMA|     LIMA|SAN JUAN DE LURIG...|                 S|  MASCULINO|  320|\n|       41673925|       CAPANI|    ORTIZ|          HECTOR|  32|   M|        LIMA|     LIMA|SAN JUAN DE LURIG...|                 S|  MASCULINO|  320|\n|       41465372|     CARRASCO|HUASUPOMA|    EDWIN IRINEO|  32|   M|        LIMA|     LIMA|       INDEPENDENCIA|                 S|  MASCULINO|  320|\n|       41446683|       ANAMPA|     INCA|   NICOLAS LUCIO|  34|   M|        LIMA|     LIMA|                LIMA|                 S|  MASCULINO|  340|\n|       41429153|     CARRANZA|    CUBAS|          ELISEO|  34|   M|        LIMA|     LIMA|               RIMAC|                 S|  MASCULINO|  340|\n|       41414317|      SALDANA|MONDRAGON|    LUIS ALBERTO|  32|   M|        LIMA|     LIMA|       INDEPENDENCIA|                CS|  MASCULINO|  320|\n|       41318159|    VELASQUEZ|  DIESTRA|       JIMY RAUL|  33|   M|        LIMA|     LIMA|       INDEPENDENCIA|                 S|  MASCULINO|  330|\n|       41300907|    MONDONEDO|     WONG|          WALDIR|  33|   M|        LIMA|     LIMA|               RIMAC|                 S|  MASCULINO|  330|\n|       41282048|      ANCIETA|    MARIN|   VICTOR MARTIN|  33|   M|        LIMA|     LIMA|         LA VICTORIA|                 S|  MASCULINO|  330|\n|       41262842|GOMEZ SANCHEZ|   BOTTON|    CESAR MARTIN|  33|   M|        LIMA|     LIMA|   SANTIAGO DE SURCO|                 S|  MASCULINO|  330|\n|       41248532|      RAMIREZ|  BARBOZA|    JESUS MARTIN|  33|   M|        LIMA|     LIMA|          SAN MIGUEL|                 S|  MASCULINO|  330|\n|       41235005|       GRADOS|   CASTRO|      JORGE LUIS|  34|   M|        LIMA|     LIMA|         LA VICTORIA|                 S|  MASCULINO|  340|\n|       41212992|     GONZALES|  CACCIRE|ALEJANDRO JAVIER|  34|   M|        LIMA|     LIMA|   SANTIAGO DE SURCO|                 S|  MASCULINO|  340|\n|       41201652|       BUTRON|  GOTUZZO|            OMAR|  33|   M|        LIMA|     LIMA|   SANTIAGO DE SURCO|                 S|  MASCULINO|  330|\n+---------------+-------------+---------+----------------+----+----+------------+---------+--------------------+------------------+-----------+-----+\nonly showing top 20 rows\n",
					"output_type": "stream"
				}
			]
		},
		{
			"cell_type": "code",
			"source": "",
			"metadata": {},
			"execution_count": null,
			"outputs": []
		},
		{
			"cell_type": "markdown",
			"source": "#### Example: Create a DynamicFrame from a table in the AWS Glue Data Catalog and display its schema\n",
			"metadata": {
				"editable": true,
				"trusted": true
			}
		},
		{
			"cell_type": "code",
			"source": "dyf = glueContext.create_dynamic_frame.from_catalog(database='database_name', table_name='table_name')\ndyf.printSchema()",
			"metadata": {
				"trusted": true,
				"editable": true
			},
			"execution_count": null,
			"outputs": []
		},
		{
			"cell_type": "markdown",
			"source": "#### Example: Convert the DynamicFrame to a Spark DataFrame and display a sample of the data\n",
			"metadata": {
				"editable": true,
				"trusted": true
			}
		},
		{
			"cell_type": "code",
			"source": "df = dyf.toDF()\ndf.show()",
			"metadata": {
				"trusted": true,
				"editable": true
			},
			"execution_count": null,
			"outputs": []
		},
		{
			"cell_type": "markdown",
			"source": "#### Example: Visualize data with matplotlib\n",
			"metadata": {
				"editable": true,
				"trusted": true
			}
		},
		{
			"cell_type": "code",
			"source": "import matplotlib.pyplot as plt\n\n# Set X-axis and Y-axis values\nx = [5, 2, 8, 4, 9]\ny = [10, 4, 8, 5, 2]\n  \n# Create a bar chart \nplt.bar(x, y)\n  \n# Show the plot\n%matplot plt",
			"metadata": {
				"trusted": true,
				"editable": true
			},
			"execution_count": null,
			"outputs": []
		},
		{
			"cell_type": "markdown",
			"source": "#### Example: Write the data in the DynamicFrame to a location in Amazon S3 and a table for it in the AWS Glue Data Catalog\n",
			"metadata": {
				"editable": true,
				"trusted": true
			}
		},
		{
			"cell_type": "code",
			"source": "s3output = glueContext.getSink(\n  path=\"s3://bucket_name/folder_name\",\n  connection_type=\"s3\",\n  updateBehavior=\"UPDATE_IN_DATABASE\",\n  partitionKeys=[],\n  compression=\"snappy\",\n  enableUpdateCatalog=True,\n  transformation_ctx=\"s3output\",\n)\ns3output.setCatalogInfo(\n  catalogDatabase=\"demo\", catalogTableName=\"populations\"\n)\ns3output.setFormat(\"glueparquet\")\ns3output.writeFrame(DyF)",
			"metadata": {
				"trusted": true,
				"editable": true
			},
			"execution_count": null,
			"outputs": []
		}
	]
}